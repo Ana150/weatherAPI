{
  "nbformat": 4,
  "nbformat_minor": 0,
  "metadata": {
    "colab": {
      "provenance": [],
      "include_colab_link": true
    },
    "kernelspec": {
      "name": "python3",
      "display_name": "Python 3"
    },
    "language_info": {
      "name": "python"
    }
  },
  "cells": [
    {
      "cell_type": "markdown",
      "metadata": {
        "id": "view-in-github",
        "colab_type": "text"
      },
      "source": [
        "<a href=\"https://colab.research.google.com/github/Ana150/weatherAPI/blob/main/Open_Weather_API.ipynb\" target=\"_parent\"><img src=\"https://colab.research.google.com/assets/colab-badge.svg\" alt=\"Open In Colab\"/></a>"
      ]
    },
    {
      "cell_type": "markdown",
      "source": [
        "# Consumindo a API do OPEN WEATHER\n",
        "\n",
        "OpenWeatherMap é um serviço online, de propriedade da OpenWeather Ltd, que fornece dados meteorológicos globais via API, incluindo dados meteorológicos atuais, previsões, previsões e dados meteorológicos históricos para qualquer localização geográfica\n",
        "\n",
        "https://openweathermap.org/\n",
        "\n",
        "\n"
      ],
      "metadata": {
        "id": "QLmc9l-wk9tK"
      }
    },
    {
      "cell_type": "markdown",
      "source": [
        "## Exercício\n",
        "\n",
        "Consuma a API OPEN WEATHER de uma cidade que comece com a mesma letra do seu nome, normalize a saida para que seja amigavel para o usuário, e converta as unidades para os padrões que usamos no Brasil.\n",
        "\n",
        "Para isso consulte a documentação do openweather, doc da biblioteca \"requests\" do python e materiais onlines\n",
        "\n",
        "Após terminar o exercicio, disponibilize um link do **github** em um repositorio da sua escolha para a correção\n",
        "\n",
        "*Arquivo > Salvar uma cópia no Github*\n",
        "\n",
        "Insira seu nome e RM abaixo"
      ],
      "metadata": {
        "id": "qPrM1XR3lcsx"
      }
    },
    {
      "cell_type": "code",
      "source": [
        "nome = input('Ana Cristina Araújo Oliveira: ')\n",
        "rm = input('99816: ')"
      ],
      "metadata": {
        "id": "vv5aH-8pmZLx"
      },
      "execution_count": null,
      "outputs": []
    },
    {
      "cell_type": "markdown",
      "source": [
        "# Utilize a **Current weather data** para acessar o clima local da cidade\n",
        "\n",
        "Exemplo de endpoint utilizado na doc da api\n",
        "\n",
        "https://api.openweathermap.org/data/2.5/weather?lat={lat}&lon={lon}&appid={API_key}"
      ],
      "metadata": {
        "id": "2LcLA-zQnpmJ"
      }
    },
    {
      "cell_type": "code",
      "source": [
        "#Lembre-se de importar a biblioteca\n",
        "import requests"
      ],
      "metadata": {
        "id": "gDeBIuvpwSWo"
      },
      "execution_count": 1,
      "outputs": []
    },
    {
      "cell_type": "code",
      "execution_count": 21,
      "metadata": {
        "id": "oT2RcDkNkpDi",
        "colab": {
          "base_uri": "https://localhost:8080/"
        },
        "outputId": "53369763-6c0a-43ae-dd2d-2d01a0e527a1"
      },
      "outputs": [
        {
          "output_type": "execute_result",
          "data": {
            "text/plain": [
              "{'coord': {'lon': -42.3906, 'lat': -17.9969},\n",
              " 'weather': [{'id': 800,\n",
              "   'main': 'Clear',\n",
              "   'description': 'clear sky',\n",
              "   'icon': '01d'}],\n",
              " 'base': 'stations',\n",
              " 'main': {'temp': 301.51,\n",
              "  'feels_like': 301.46,\n",
              "  'temp_min': 301.51,\n",
              "  'temp_max': 301.51,\n",
              "  'pressure': 1018,\n",
              "  'humidity': 44,\n",
              "  'sea_level': 1018,\n",
              "  'grnd_level': 970},\n",
              " 'visibility': 10000,\n",
              " 'wind': {'speed': 2.37, 'deg': 112, 'gust': 3.11},\n",
              " 'clouds': {'all': 0},\n",
              " 'dt': 1679666364,\n",
              " 'sys': {'country': 'BR', 'sunrise': 1679648047, 'sunset': 1679691457},\n",
              " 'timezone': -10800,\n",
              " 'id': 3450057,\n",
              " 'name': 'Santa Maria do Suaçuí',\n",
              " 'cod': 200}"
            ]
          },
          "metadata": {},
          "execution_count": 21
        }
      ],
      "source": [
        "API_KEY = \"2392bf621cacf565ad62137d5863d2fe\"\n",
        "cidade = \"Água Boa - MG\"\n",
        "endpoint = f\"https://api.openweathermap.org/data/2.5/weather?lat={-17.9969}&lon={-42.3906}&appid=2392bf621cacf565ad62137d5863d2fe\"\n",
        "\n",
        "\n",
        "requisicao = requests.get(\"https://api.openweathermap.org/data/2.5/weather?lat=-17.9969&lon=-42.3906&appid=2392bf621cacf565ad62137d5863d2fe\")\n",
        "resposta = requisicao.json()\n",
        "resposta"
      ]
    },
    {
      "cell_type": "markdown",
      "source": [
        "A saida da sua API deve conter 2 informações essenciais:\n",
        "\n",
        "\n",
        "\n",
        "1.   Descrição ( description )\n",
        "2.   Temperatura em Celsius ( temp )\n",
        "\n",
        "Insira abaixo a saida normalizada:\n"
      ],
      "metadata": {
        "id": "01EQXOH_oekh"
      }
    },
    {
      "cell_type": "code",
      "source": [
        "desc = resposta['weather'][0]['description']\n",
        "temp = resposta['main']['temp']\n",
        "\n",
        "print(desc, temp)\n"
      ],
      "metadata": {
        "colab": {
          "base_uri": "https://localhost:8080/"
        },
        "id": "gD0e0T8YtyEB",
        "outputId": "0add4485-1692-435c-dea9-b4cc2299e770"
      },
      "execution_count": 12,
      "outputs": [
        {
          "output_type": "stream",
          "name": "stdout",
          "text": [
            "clear sky 301.51\n"
          ]
        }
      ]
    },
    {
      "cell_type": "code",
      "source": [
        "temp_c = temp - 273.15\n",
        "temp_c"
      ],
      "metadata": {
        "colab": {
          "base_uri": "https://localhost:8080/"
        },
        "id": "5aIfArEAufCo",
        "outputId": "3d055d44-c165-4912-e879-22f722e18a7a"
      },
      "execution_count": 17,
      "outputs": [
        {
          "output_type": "execute_result",
          "data": {
            "text/plain": [
              "28.360000000000014"
            ]
          },
          "metadata": {},
          "execution_count": 17
        }
      ]
    }
  ]
}